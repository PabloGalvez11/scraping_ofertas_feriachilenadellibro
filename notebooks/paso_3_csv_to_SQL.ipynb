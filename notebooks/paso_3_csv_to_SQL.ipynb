{
 "cells": [
  {
   "cell_type": "markdown",
   "id": "ddb62837",
   "metadata": {},
   "source": [
    "# Transformación de data csv procesada e integración a base de datos SQL"
   ]
  },
  {
   "cell_type": "code",
   "execution_count": 6,
   "id": "a1790daf",
   "metadata": {},
   "outputs": [],
   "source": [
    "import pandas as pd\n",
    "import sqlalchemy\n",
    "import psycopg2\n",
    "from dotenv import load_dotenv\n",
    "import os\n",
    "from datetime import datetime\n",
    "\n",
    "fecha_scraping = datetime.now().strftime(\"%Y-%m-%d\").replace(\"-\", \"_\")"
   ]
  },
  {
   "cell_type": "code",
   "execution_count": 7,
   "id": "69e81dcc",
   "metadata": {},
   "outputs": [],
   "source": [
    "load_dotenv()\n",
    "DB_NAME = os.getenv(\"DB_NAME\")\n",
    "DB_USER = os.getenv(\"DB_USER\")\n",
    "DB_PASS = os.getenv(\"DB_PASS\")\n",
    "DB_HOST = os.getenv(\"DB_HOST\")\n",
    "DB_PORT = os.getenv(\"DB_PORT\")"
   ]
  },
  {
   "cell_type": "code",
   "execution_count": 8,
   "id": "d6abdf61",
   "metadata": {},
   "outputs": [
    {
     "data": {
      "text/plain": [
       "136"
      ]
     },
     "execution_count": 8,
     "metadata": {},
     "output_type": "execute_result"
    }
   ],
   "source": [
    "def get_engine():\n",
    "    name = os.getenv(\"DB_NAME\")\n",
    "    user = os.getenv(\"DB_USER\")\n",
    "    password = os.getenv(\"DB_PASS\")\n",
    "    host = os.getenv(\"DB_HOST\")\n",
    "    port = os.getenv(\"DB_PORT\")\n",
    "    return sqlalchemy.create_engine(f\"postgresql+psycopg2://{user}:{password}@{host}:{port}/{name}\")\n",
    "\n",
    "engine = get_engine()\n",
    "\n",
    "df = pd.read_csv(f'../data/processed/ofertas_{fecha_scraping}.csv', sep=\";\", decimal=\",\", encoding=\"utf-8\")\n",
    "\n",
    "df.to_sql(f'ofertas_{fecha_scraping}', engine, index = False, if_exists = 'replace')"
   ]
  },
  {
   "cell_type": "code",
   "execution_count": 9,
   "id": "4876dcbb",
   "metadata": {},
   "outputs": [
    {
     "name": "stdout",
     "output_type": "stream",
     "text": [
      "3136\n"
     ]
    }
   ],
   "source": [
    "with engine.connect() as conn:\n",
    "    result = conn.execute(sqlalchemy.text(f\"SELECT COUNT(*) FROM ofertas_{fecha_scraping}\"))\n",
    "    print(result.scalar())"
   ]
  },
  {
   "cell_type": "code",
   "execution_count": null,
   "id": "77274cfe",
   "metadata": {},
   "outputs": [],
   "source": [
    "df = pd.read_sql(f\"SELECT * FROM ofertas_{fecha_scraping}\", engine)"
   ]
  },
  {
   "cell_type": "code",
   "execution_count": 10,
   "id": "7a56b729",
   "metadata": {},
   "outputs": [
    {
     "data": {
      "text/plain": [
       "titulo                   object\n",
       "categoria                object\n",
       "macrocategoria           object\n",
       "disponibles               int64\n",
       "precio_original         float64\n",
       "precio_oferta           float64\n",
       "porcentaje_descuento    float64\n",
       "autor                    object\n",
       "editorial                object\n",
       "encuadernacion           object\n",
       "peso_kg                 float64\n",
       "largo                   float64\n",
       "ancho                   float64\n",
       "grosor                  float64\n",
       "ano_edicion             float64\n",
       "paginas                 float64\n",
       "descripcion              object\n",
       "link                     object\n",
       "fecha_extraccion         object\n",
       "volumen                 float64\n",
       "dtype: object"
      ]
     },
     "execution_count": 10,
     "metadata": {},
     "output_type": "execute_result"
    }
   ],
   "source": [
    "df.dtypes"
   ]
  }
 ],
 "metadata": {
  "kernelspec": {
   "display_name": "proyectos",
   "language": "python",
   "name": "python3"
  },
  "language_info": {
   "codemirror_mode": {
    "name": "ipython",
    "version": 3
   },
   "file_extension": ".py",
   "mimetype": "text/x-python",
   "name": "python",
   "nbconvert_exporter": "python",
   "pygments_lexer": "ipython3",
   "version": "3.12.11"
  }
 },
 "nbformat": 4,
 "nbformat_minor": 5
}
